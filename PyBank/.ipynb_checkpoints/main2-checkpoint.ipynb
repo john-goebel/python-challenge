{
 "cells": [
  {
   "cell_type": "code",
   "execution_count": 64,
   "metadata": {},
   "outputs": [],
   "source": [
    "import csv\n",
    "import pandas as pd\n",
    "import os"
   ]
  },
  {
   "cell_type": "code",
   "execution_count": 65,
   "metadata": {},
   "outputs": [],
   "source": [
    "#csvpath = os.path.join(\"..\", \"data\", \"budget_data.csv\") - throwing error when loading csv file, see csvpath2\n",
    "csvpath2 = \"data/budget_data.csv\"\n",
    "profitMax = 0\n",
    "profitMin = 0\n",
    "totProfit = 0\n",
    "profits = []\n",
    "totMonths = 0\n",
    "\n",
    "periodProfitMax = \"\"\n",
    "periodProfMin = \"\" "
   ]
  },
  {
   "cell_type": "code",
   "execution_count": 66,
   "metadata": {},
   "outputs": [],
   "source": [
    "def average(numbers):\n",
    "    length = len(numbers)\n",
    "    total = 0\n",
    "    for number in numbers:\n",
    "        total += number\n",
    "    return total / length"
   ]
  },
  {
   "cell_type": "code",
   "execution_count": 67,
   "metadata": {},
   "outputs": [],
   "source": [
    "with open(csvpath2, newline='') as dataFile:\n",
    "    csvreader = csv.reader(dataFile, delimiter=',')\n",
    "    \n",
    "    csv_header = next(csvreader)\n",
    "\n",
    "    for row in csvreader:\n",
    "        if float(row[1]) > profitMax:\n",
    "            profitMax = float(row[1])\n",
    "            periodProfMax = row[0]\n",
    "        if float(row[1]) < profitMin:\n",
    "            profitMin = float(row[1])\n",
    "            periodProfMin = row[0]\n",
    "        totMonths = totMonths + 1\n",
    "        totProfit = totProfit + float(row[1])\n",
    "        \n",
    "        profits.append(float(row[1]))\n"
   ]
  },
  {
   "cell_type": "code",
   "execution_count": 68,
   "metadata": {},
   "outputs": [
    {
     "name": "stdout",
     "output_type": "stream",
     "text": [
      "There are 86 months in the data\n",
      "The largest profit was in Feb-2012 and was : $ 1,170,593.00\n",
      "The largest loss was in Sep-2013 and was: $ -1,196,225.00\n",
      "The total profits over the entire period is: $ 38,382,578.00\n",
      "The average monthly profit is: $ 446,309.05\n"
     ]
    }
   ],
   "source": [
    "print(\"There are \"+ str(totMonths) + \" months in the data\")    \n",
    "print(\"The largest profit was in \" + periodProfMax + \" and was : $\", format(profitMax, \",.2f\"))\n",
    "print(\"The largest loss was in \" + periodProfMin + \" and was: $\", format(profitMin, \",.2f\"))\n",
    "print(\"The total profits over the entire period is: $\", format(totProfit,\",.2f\"))\n",
    "print(\"The average monthly profit is: $\", format(average(profits), \",.2f\"))\n"
   ]
  },
  {
   "cell_type": "code",
   "execution_count": null,
   "metadata": {},
   "outputs": [],
   "source": []
  }
 ],
 "metadata": {
  "kernelspec": {
   "display_name": "Python 3",
   "language": "python",
   "name": "python3"
  },
  "language_info": {
   "codemirror_mode": {
    "name": "ipython",
    "version": 3
   },
   "file_extension": ".py",
   "mimetype": "text/x-python",
   "name": "python",
   "nbconvert_exporter": "python",
   "pygments_lexer": "ipython3",
   "version": "3.7.3"
  }
 },
 "nbformat": 4,
 "nbformat_minor": 2
}
