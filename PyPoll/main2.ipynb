{
 "cells": [
  {
   "cell_type": "code",
   "execution_count": 103,
   "metadata": {},
   "outputs": [],
   "source": [
    "import csv\n",
    "import pandas as pd\n",
    "import numpy\n",
    "import itertools"
   ]
  },
  {
   "cell_type": "code",
   "execution_count": 104,
   "metadata": {},
   "outputs": [],
   "source": [
    "csvpath = 'data/election_data.csv'\n",
    "candidates_df = pd.read_csv(csvpath)\n",
    "\n",
    "candidates =[]"
   ]
  },
  {
   "cell_type": "code",
   "execution_count": 105,
   "metadata": {},
   "outputs": [
    {
     "data": {
      "text/plain": [
       "Khan        2218231\n",
       "Correy       704200\n",
       "Li           492940\n",
       "O'Tooley     105630\n",
       "Name: Candidate, dtype: int64"
      ]
     },
     "execution_count": 105,
     "metadata": {},
     "output_type": "execute_result"
    }
   ],
   "source": [
    "candidatesCount = candidates_df[\"Candidate\"].value_counts()\n",
    "candidatesCount"
   ]
  },
  {
   "cell_type": "code",
   "execution_count": 106,
   "metadata": {},
   "outputs": [
    {
     "name": "stdout",
     "output_type": "stream",
     "text": [
      "total votes: 3,521,001\n"
     ]
    }
   ],
   "source": [
    "votes = candidates_df[\"Voter ID\"].count()\n",
    "print(\"total votes: \" + format(votes, \",.0f\"))"
   ]
  },
  {
   "cell_type": "code",
   "execution_count": 107,
   "metadata": {},
   "outputs": [
    {
     "data": {
      "text/html": [
       "<div>\n",
       "<style scoped>\n",
       "    .dataframe tbody tr th:only-of-type {\n",
       "        vertical-align: middle;\n",
       "    }\n",
       "\n",
       "    .dataframe tbody tr th {\n",
       "        vertical-align: top;\n",
       "    }\n",
       "\n",
       "    .dataframe thead th {\n",
       "        text-align: right;\n",
       "    }\n",
       "</style>\n",
       "<table border=\"1\" class=\"dataframe\">\n",
       "  <thead>\n",
       "    <tr style=\"text-align: right;\">\n",
       "      <th></th>\n",
       "      <th>Votes</th>\n",
       "      <th>Pct</th>\n",
       "    </tr>\n",
       "    <tr>\n",
       "      <th>Candidate</th>\n",
       "      <th></th>\n",
       "      <th></th>\n",
       "    </tr>\n",
       "  </thead>\n",
       "  <tbody>\n",
       "    <tr>\n",
       "      <th>Correy</th>\n",
       "      <td>704200</td>\n",
       "      <td>0.20</td>\n",
       "    </tr>\n",
       "    <tr>\n",
       "      <th>Khan</th>\n",
       "      <td>2218231</td>\n",
       "      <td>0.63</td>\n",
       "    </tr>\n",
       "    <tr>\n",
       "      <th>Li</th>\n",
       "      <td>492940</td>\n",
       "      <td>0.14</td>\n",
       "    </tr>\n",
       "    <tr>\n",
       "      <th>O'Tooley</th>\n",
       "      <td>105630</td>\n",
       "      <td>0.03</td>\n",
       "    </tr>\n",
       "  </tbody>\n",
       "</table>\n",
       "</div>"
      ],
      "text/plain": [
       "             Votes   Pct\n",
       "Candidate               \n",
       "Correy      704200  0.20\n",
       "Khan       2218231  0.63\n",
       "Li          492940  0.14\n",
       "O'Tooley    105630  0.03"
      ]
     },
     "execution_count": 107,
     "metadata": {},
     "output_type": "execute_result"
    }
   ],
   "source": [
    "candidates_grp = candidates_df.groupby([\"Candidate\"]).count()\n",
    "candidates_grp.columns=[\"Votes\", \"County\"]\n",
    "candidates_grp[\"Pct\"] = candidates_grp[\"Votes\"]/votes\n",
    "columns = [\"Votes\", \"Pct\"]\n",
    "candidates_grp = candidates_grp[columns]\n",
    "candidates_grp"
   ]
  },
  {
   "cell_type": "code",
   "execution_count": 108,
   "metadata": {},
   "outputs": [
    {
     "data": {
      "text/plain": [
       "2218231"
      ]
     },
     "execution_count": 108,
     "metadata": {},
     "output_type": "execute_result"
    }
   ],
   "source": [
    "winVoteTot = candidates_grp[\"Votes\"].max()\n",
    "winVoteTot"
   ]
  },
  {
   "cell_type": "code",
   "execution_count": 109,
   "metadata": {},
   "outputs": [
    {
     "name": "stdout",
     "output_type": "stream",
     "text": [
      "Election Results\n",
      "--------------------------------------------------------------\n",
      "Total Votes: 3,521,001\n",
      "--------------------------------------------------------------\n",
      "The votes and percentages for each candidate are as follows: \n",
      "             Votes   Pct\n",
      "Candidate               \n",
      "Correy      704200  0.20\n",
      "Khan       2218231  0.63\n",
      "Li          492940  0.14\n",
      "O'Tooley    105630  0.03\n",
      "--------------------------------------------------------------\n",
      "The wiinner is the one with 2,218,231 votes; and I don't know how to get his name. I think it's an issue with calling the dictionary name after the groupby by I'm stuck\n"
     ]
    }
   ],
   "source": [
    "print(\"Election Results\")\n",
    "print(\"--------------------------------------------------------------\")\n",
    "print(\"Total Votes: \" + format(votes, \",.0f\"))\n",
    "print(\"--------------------------------------------------------------\")\n",
    "print(\"The votes and percentages for each candidate are as follows: \")\n",
    "print(candidates_grp)\n",
    "print(\"--------------------------------------------------------------\")\n",
    "print(\"The wiinner is the one with \" + format(winVoteTot, \",.0f\") + \" votes; and I don't know how to get his name. I think it's an issue with calling the dictionary name after the groupby by I'm stuck\")"
   ]
  },
  {
   "cell_type": "code",
   "execution_count": 111,
   "metadata": {},
   "outputs": [
    {
     "name": "stdout",
     "output_type": "stream",
     "text": [
      "['Khan', 'Correy', 'Li', \"O'Tooley\"]\n"
     ]
    }
   ],
   "source": [
    "# with open(csvpath, newline='') as dataFile:\n",
    "    # csvreader = csv.reader(dataFile, delimiter=',')\n",
    "    \n",
    "    # csv_header = next(csvreader)\n",
    "\n",
    "    # for row in csvreader:\n",
    "        # try:\n",
    "            # candidates.index(row[2])\n",
    "           \n",
    "        # except ValueError:\n",
    "            # candidates.append(row[2])\n",
    "            \n",
    "# print(candidates)  # - generates list with each candidate name"
   ]
  }
 ],
 "metadata": {
  "kernelspec": {
   "display_name": "Python 3",
   "language": "python",
   "name": "python3"
  },
  "language_info": {
   "codemirror_mode": {
    "name": "ipython",
    "version": 3
   },
   "file_extension": ".py",
   "mimetype": "text/x-python",
   "name": "python",
   "nbconvert_exporter": "python",
   "pygments_lexer": "ipython3",
   "version": "3.7.3"
  }
 },
 "nbformat": 4,
 "nbformat_minor": 2
}
